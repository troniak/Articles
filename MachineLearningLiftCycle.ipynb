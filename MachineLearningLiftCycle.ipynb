{
  "nbformat": 4,
  "nbformat_minor": 0,
  "metadata": {
    "colab": {
      "name": "cavnue.ipynb",
      "provenance": [],
      "collapsed_sections": [],
      "authorship_tag": "ABX9TyO0BZ6sYxIGif1aV7F92wRJ"
    },
    "kernelspec": {
      "name": "python3",
      "display_name": "Python 3"
    },
    "language_info": {
      "name": "python"
    }
  },
  "cells": [
    {
      "cell_type": "markdown",
      "metadata": {
        "id": "LXH-IAdAqgaS"
      },
      "source": [
        "#Problem Definition \n",
        "Human errors remain the largest contributing factor to safety and congestion related incidents, approximately 94% of all motor‐vehicle accidents, leading to over 33,000 national annual fatalities, from 2009 through 2014. In addition, congestion related system inefficiencies wastes an annual $160B in time and fuel, and accounts for nearly 24% of the Greenhouse Gas Emissions throughout the US. [1]  \n",
        "We wish to address these issues by detecting lane-level events through deploying CAV-Enabled Corridors. Such lane-level events include, but are not limited to, peak lane demand/congestion, minimum and maximum velocities of road-users, volume and class of road-users per lane, anomalous lane-to-lane behavior, as well as the identification of hazards such as pedestrians, debris or wrong-way driving vehicle in the roadway/shoulder."
      ]
    },
    {
      "cell_type": "markdown",
      "metadata": {
        "id": "sfm1Jjxlvo6W"
      },
      "source": [
        "#Approach  \n",
        "Lane-level event detection supported by a series of computer vision and machine learning based technologies developed by us, including object detection, localization and tracking of objects of interest in video feeds monitoring these corridors. At this stage, we work closely with the customer and the current state of the art to ensure a proper solution is deployed to the customer's satisfaction.  \n",
        "\n",
        "![Corridor Monitor](https://www.gifntext.com/temp_generations/O3bWHF07.gif \"Corridor Monitor\")"
      ]
    },
    {
      "cell_type": "markdown",
      "metadata": {
        "id": "BC-2kT1ewOwz"
      },
      "source": [
        "\n",
        "#Data Gathering    \n",
        "The power of a machine learning (ML) system comes from the quality of its data. Any customer sponsored data that can be made available could be useful in initial iterations of the ML model. Useful data includes measurements of interest collected, such as through manual labeling, pilot vehicles, etc. secondary measurements, such as meterological data, as well as source data from which those measurements can be reproduced, such as video feeds.  \n",
        "If customer data is supplied, we must take time to understand what each of the fields represent and what the data types are so that the information can be parsed and used as input to the ML model.  \n",
        "In the absense of customer data, we can bootstrap ML model training by using publicly available datasets such as the KITTI Benchmark Suite [http://www.cvlibs.net/datasets/kitti/]."
      ]
    },
    {
      "cell_type": "code",
      "metadata": {
        "colab": {
          "base_uri": "https://localhost:8080/"
        },
        "id": "LqpSnMDBGCtz",
        "outputId": "baf4de3f-d525-49f2-eadf-5c3ae3cc51a5"
      },
      "source": [
        "import random\n",
        "import numpy as np\n",
        "dataset_name = ['State Route 6','I80']\n",
        "avg = [int(random.normalvariate(50,6)) for _ in range(8)]\n",
        "sr6_data = {\n",
        "    'Start Time': ('22900','23000')+tuple(['230'+a+'0' for a in [str(b) for b in range(1,9)]]), \n",
        "    'avg': ('50','50')+tuple(avg), \n",
        "    'PC':('46','46')+tuple([round(a,3) for a in np.array(avg)*-0.8 + 65]), \n",
        "    'Foo': ('Bar','Bar')*5, \n",
        "    'Video Feed': ('corridor.mp4','corridor.mp4')+tuple(['corridor'+a+'.mpg' for a in [str(b) for b in range(2,10)]]),\n",
        "    'ObjectofInterest': tuple(['No']*5)+tuple(['Yes']*2)+tuple(['No']*3),\n",
        "    'Anomalous Event': tuple(['Yes']*5)+tuple(['No']*2)+tuple(['No']*3)}\n",
        "i80_data = {\n",
        "    'Start Time': ('64000','','64020')+tuple(['640'+a+'0' for a in [str(b) for b in range(3,10)]]), \n",
        "    'Average Speed': ('70','999','72')+tuple(np.array(avg[:-1])+22), \n",
        "    'Peak Congestion':('34','NaN','32')+tuple([round(a,3) for a in (np.array(avg[:-1])+22)*-0.6 + 76]), \n",
        "    'Cam Feed': ('640.mpg','corrupt.zzz','642.mpg')+tuple(['64'+a+'.mpg' for a in [str(b) for b in range(3,10)]]),\n",
        "    'ObjectofInterest': tuple(['No']*4)+tuple(['Yes']*1)+tuple(['No']*5),\n",
        "    'Anomalous Event': tuple(['No']*5)+tuple(['No']*2)+tuple(['Yes']*3)}\n",
        "id2name = {}\n",
        "print(['6:4'+a for a in [str(b) for b in range(3,10)]])\n",
        "def show_data(data,column_width=16):\n",
        "  '''display a dictionary as a table'''\n",
        "  assert(len(data)>0)\n",
        "  print(id(data),':')\n",
        "  print('',end=\"|\")\n",
        "  for entry in data:\n",
        "    print(f\"{entry:^{column_width}}\",end=\"|\")\n",
        "  print('\\n',end=\"|\")\n",
        "  for _ in data:\n",
        "    print('-'.join(['']*(column_width+1)),end=\"|\")\n",
        "  print('\\n',end=\"|\")\n",
        "  row = 0\n",
        "  while(True):\n",
        "    for column in data:\n",
        "      if(row >= len(data[column])): print(f\"{(''):^{column_width*len(data)+len(data)-1}}\",end='|\\n'); return\n",
        "      print(f\"{str(data[column][row]):^{column_width}}\",end='|')\n",
        "    print('\\n',end=\"|\")\n",
        "    row+=1\n",
        "\n",
        "all_data = [sr6_data,i80_data]\n",
        "for data in all_data:\n",
        "  show_data(data)"
      ],
      "execution_count": null,
      "outputs": [
        {
          "output_type": "stream",
          "name": "stdout",
          "text": [
            "['6:43', '6:44', '6:45', '6:46', '6:47', '6:48', '6:49']\n",
            "140407715224064 :\n",
            "|   Start Time   |      avg       |       PC       |      Foo       |   Video Feed   |ObjectofInterest|Anomalous Event |\n",
            "|----------------|----------------|----------------|----------------|----------------|----------------|----------------|\n",
            "|     22900      |       50       |       46       |      Bar       |  corridor.mp4  |       No       |      Yes       |\n",
            "|     23000      |       50       |       46       |      Bar       |  corridor.mp4  |       No       |      Yes       |\n",
            "|     23010      |       53       |      22.6      |      Bar       | corridor2.mpg  |       No       |      Yes       |\n",
            "|     23020      |       61       |      16.2      |      Bar       | corridor3.mpg  |       No       |      Yes       |\n",
            "|     23030      |       55       |      21.0      |      Bar       | corridor4.mpg  |       No       |      Yes       |\n",
            "|     23040      |       50       |      25.0      |      Bar       | corridor5.mpg  |      Yes       |       No       |\n",
            "|     23050      |       41       |      32.2      |      Bar       | corridor6.mpg  |      Yes       |       No       |\n",
            "|     23060      |       45       |      29.0      |      Bar       | corridor7.mpg  |       No       |       No       |\n",
            "|     23070      |       56       |      20.2      |      Bar       | corridor8.mpg  |       No       |       No       |\n",
            "|     23080      |       53       |      22.6      |      Bar       | corridor9.mpg  |       No       |       No       |\n",
            "|                                                                                                                      |\n",
            "140407715224544 :\n",
            "|   Start Time   | Average Speed  |Peak Congestion |    Cam Feed    |ObjectofInterest|Anomalous Event |\n",
            "|----------------|----------------|----------------|----------------|----------------|----------------|\n",
            "|     64000      |       70       |       34       |    640.mpg     |       No       |       No       |\n",
            "|                |      999       |      NaN       |  corrupt.zzz   |       No       |       No       |\n",
            "|     64020      |       72       |       32       |    642.mpg     |       No       |       No       |\n",
            "|     64030      |       75       |      31.0      |    643.mpg     |       No       |       No       |\n",
            "|     64040      |       83       |      26.2      |    644.mpg     |      Yes       |       No       |\n",
            "|     64050      |       77       |      29.8      |    645.mpg     |       No       |       No       |\n",
            "|     64060      |       72       |      32.8      |    646.mpg     |       No       |       No       |\n",
            "|     64070      |       63       |      38.2      |    647.mpg     |       No       |      Yes       |\n",
            "|     64080      |       67       |      35.8      |    648.mpg     |       No       |      Yes       |\n",
            "|     64090      |       78       |      29.2      |    649.mpg     |       No       |      Yes       |\n",
            "|                                                                                                     |\n"
          ]
        }
      ]
    },
    {
      "cell_type": "markdown",
      "metadata": {
        "id": "JrU8tObqwauZ"
      },
      "source": [
        "\n",
        "#Data Preparation  \n",
        "At this stage, we take ownership of the data we have received. We combine, format, and make sure we understand what data in each of the columns represent.\n",
        "If at this stage, we can query the data for specific features and we understand what they are, we are ready to move on the to preparing the data. If there are any columns that we do not understand or are labeled poorly, we need to go back to the data gathering stage and clarify the meaning of any unknown features. In the example, we need to understand the Foo column, as well as clarify the meaning of the PC and avg labels. Learning that these are Peak Congestion and Average Speed, respectively, we can then merge them between the two datasets."
      ]
    },
    {
      "cell_type": "code",
      "metadata": {
        "colab": {
          "base_uri": "https://localhost:8080/"
        },
        "id": "dszTf7mJicEw",
        "outputId": "5a44c6c8-81ed-4dc1-8cc6-760c3eee5bfc"
      },
      "source": [
        "from datetime import datetime\n",
        "import numpy as np\n",
        "\n",
        "# Formatting rules for columns\n",
        "format_rules = {\\\n",
        "'Average Speed' : (lambda s: float(s)),\n",
        "'Start Time' : (lambda s: float(s)),\n",
        "'Peak Congestion' : (lambda s: int(s)),\n",
        "'subset_id' : lambda s: id2name[s],\n",
        "'Video Feed': lambda s: s[:s.rfind('.')]+'.mp4' if s[s.rfind('.'):]!='.zzz' else 'INVALID'}\n",
        "join_rules = {'Foo':['Foo'],'Start Time':['Start Time'],'Average Speed':['Average Speed','avg'],'Video Feed':['Video Feed','Cam Feed'],'Peak Congestion':['PC','Peak Congestion'],'Anomalous Event':['Anomalous Event'],'ObjectofInterest':['ObjectofInterest']}\n",
        "def parse_entry(entry,column):\n",
        "  '''parse entries using set of predefined rules based on column type'''\n",
        "  try: \n",
        "    return format_rules[column](entry) if column in format_rules else entry\n",
        "  except ValueError as ve: \n",
        "    return np.nan\n",
        "\n",
        "def parse_column(data,column):\n",
        "  '''parse a column of data to a list of valid python datatypes if possible'''\n",
        "  data[column] = [parse_entry(s,column) for s in data[column]]\n",
        "\n",
        "def format_data(data):\n",
        "  '''format each column of a table of data'''\n",
        "  for column in data: parse_column(data,column)\n",
        "def prepare_data(all_data, label_map):\n",
        "  prepared_data = dict()\n",
        "  column_height = 0\n",
        "  for idx,data in enumerate(all_data):\n",
        "    id2name[f'{id(data)}'] = dataset_name[idx]\n",
        "    for label in label_map:\n",
        "      for duplicate in label_map[label]:\n",
        "        if duplicate in data:\n",
        "          prepared_data[label] = (prepared_data[label] if label in prepared_data else ()) + data[duplicate]\n",
        "      column_height = max(column_height,len(prepared_data[label]))\n",
        "    for label in label_map:\n",
        "      prepared_data[label] += tuple(['']*(column_height-len(prepared_data[label])))\n",
        "    \n",
        "    #Add the subset_id entry to the table, a unique identifier for the dataset it came from\n",
        "    prepared_data['subset_id'] = (prepared_data['subset_id'] if 'subset_id' in prepared_data else ()) + tuple([f'{id(data)}']*(column_height-(len(prepared_data['subset_id']) if 'subset_id' in prepared_data else 0)))\n",
        "\n",
        "  return prepared_data\n",
        "prepared_data = prepare_data(all_data,join_rules)\n",
        "format_data(prepared_data)\n",
        "show_data(prepared_data)"
      ],
      "execution_count": null,
      "outputs": [
        {
          "output_type": "stream",
          "name": "stdout",
          "text": [
            "140407715347984 :\n",
            "|      Foo       |   Start Time   | Average Speed  |   Video Feed   |Peak Congestion |Anomalous Event |ObjectofInterest|   subset_id    |\n",
            "|----------------|----------------|----------------|----------------|----------------|----------------|----------------|----------------|\n",
            "|      Bar       |    22900.0     |      50.0      |  corridor.mp4  |       46       |      Yes       |       No       | State Route 6  |\n",
            "|      Bar       |    23000.0     |      50.0      |  corridor.mp4  |       46       |      Yes       |       No       | State Route 6  |\n",
            "|      Bar       |    23010.0     |      53.0      | corridor2.mp4  |       22       |      Yes       |       No       | State Route 6  |\n",
            "|      Bar       |    23020.0     |      61.0      | corridor3.mp4  |       16       |      Yes       |       No       | State Route 6  |\n",
            "|      Bar       |    23030.0     |      55.0      | corridor4.mp4  |       21       |      Yes       |       No       | State Route 6  |\n",
            "|      Bar       |    23040.0     |      50.0      | corridor5.mp4  |       25       |       No       |      Yes       | State Route 6  |\n",
            "|      Bar       |    23050.0     |      41.0      | corridor6.mp4  |       32       |       No       |      Yes       | State Route 6  |\n",
            "|      Bar       |    23060.0     |      45.0      | corridor7.mp4  |       29       |       No       |       No       | State Route 6  |\n",
            "|      Bar       |    23070.0     |      56.0      | corridor8.mp4  |       20       |       No       |       No       | State Route 6  |\n",
            "|      Bar       |    23080.0     |      53.0      | corridor9.mp4  |       22       |       No       |       No       | State Route 6  |\n",
            "|                |    64000.0     |      70.0      |    640.mp4     |       34       |       No       |       No       |      I80       |\n",
            "|                |      nan       |     999.0      |    INVALID     |      nan       |       No       |       No       |      I80       |\n",
            "|                |    64020.0     |      72.0      |    642.mp4     |       32       |       No       |       No       |      I80       |\n",
            "|                |    64030.0     |      75.0      |    643.mp4     |       31       |       No       |       No       |      I80       |\n",
            "|                |    64040.0     |      83.0      |    644.mp4     |       26       |       No       |      Yes       |      I80       |\n",
            "|                |    64050.0     |      77.0      |    645.mp4     |       29       |       No       |       No       |      I80       |\n",
            "|                |    64060.0     |      72.0      |    646.mp4     |       32       |       No       |       No       |      I80       |\n",
            "|                |    64070.0     |      63.0      |    647.mp4     |       38       |      Yes       |       No       |      I80       |\n",
            "|                |    64080.0     |      67.0      |    648.mp4     |       35       |      Yes       |       No       |      I80       |\n",
            "|                |    64090.0     |      78.0      |    649.mp4     |       29       |      Yes       |       No       |      I80       |\n",
            "|                                                                                                                                       |\n"
          ]
        }
      ]
    },
    {
      "cell_type": "markdown",
      "metadata": {
        "id": "lVaOid6Ew4jG"
      },
      "source": [
        "#Data Cleaning  \n",
        "Once the data has been formatted and merged, the next step is to remove any inconsistencies in the data that might become problematic when it comes time to train a model.  \n",
        "Actions to take here include removal of any duplicate entries, removal or otherwise correcting any invalid data, interpolating missing values, marking or removing outliers. \n",
        "Problems at this stage may signal an error in the preparation stage due to e.g. invalid formatting.  \n",
        "In this example, the nan values are removed from the Start Time and Peak Congestion columns, and the outlier is removed from the Average Speed Column by way of interpolation. The corrupted video file is identified at this stage as well to prevent the system from trying to interpret it as a valid video file."
      ]
    },
    {
      "cell_type": "code",
      "metadata": {
        "colab": {
          "base_uri": "https://localhost:8080/"
        },
        "id": "0WuUBQHMmNBT",
        "outputId": "388aec9e-ab59-43b5-ca6c-96a69cd15ef6"
      },
      "source": [
        "\n",
        "import numpy as np\n",
        "\n",
        "def is_num(var):\n",
        "  try:\n",
        "    int(var)\n",
        "    return True\n",
        "  except:\n",
        "    return False\n",
        "\n",
        "def clear_outliers(data):\n",
        "  all_columns = [data[key] for key in data.keys()]\n",
        "  for column,key in zip(all_columns,data.keys()):\n",
        "    column=np.array(column)\n",
        "    if is_num(column[0]):\n",
        "      z_scores = (np.array(column)-np.mean(column))/np.std(column)\n",
        "      column[z_scores > 3] = np.median(column) \n",
        "    data[key] = column.tolist()\n",
        "\n",
        "def next_valid_entry(column):\n",
        "  for entry in column:\n",
        "    if entry is not np.nan: return entry\n",
        "  return np.nan\n",
        "\n",
        "def interpolate_missing(data):\n",
        "  all_columns = [data[key] for key in data.keys()]\n",
        "  for column,key in zip(all_columns,data.keys()):\n",
        "    if is_num(column[0]):\n",
        "      nanvalues = [np.isnan(entry) for entry in column]\n",
        "      last_valid_entry = np.nan\n",
        "      for idx,entry in enumerate(column):\n",
        "        if np.isnan(entry):\n",
        "          column[idx] = (next_valid_entry(column[idx:]) + last_valid_entry) / 2\n",
        "        else: last_valid_entry = entry\n",
        "    data[key] = column\n",
        "\n",
        "def clean_data(data):\n",
        "  #remove_duplicates(data)\n",
        "  interpolate_missing(data)\n",
        "  clear_outliers(data)\n",
        "\n",
        "  return data\n",
        "\n",
        "clean_data(prepared_data)\n",
        "show_data(prepared_data)"
      ],
      "execution_count": null,
      "outputs": [
        {
          "output_type": "stream",
          "name": "stdout",
          "text": [
            "140407715347984 :\n",
            "|      Foo       |   Start Time   | Average Speed  |   Video Feed   |Peak Congestion |Anomalous Event |ObjectofInterest|   subset_id    |\n",
            "|----------------|----------------|----------------|----------------|----------------|----------------|----------------|----------------|\n",
            "|      Bar       |    22900.0     |      50.0      |  corridor.mp4  |      46.0      |      Yes       |       No       | State Route 6  |\n",
            "|      Bar       |    23000.0     |      50.0      |  corridor.mp4  |      46.0      |      Yes       |       No       | State Route 6  |\n",
            "|      Bar       |    23010.0     |      53.0      | corridor2.mp4  |      22.0      |      Yes       |       No       | State Route 6  |\n",
            "|      Bar       |    23020.0     |      61.0      | corridor3.mp4  |      16.0      |      Yes       |       No       | State Route 6  |\n",
            "|      Bar       |    23030.0     |      55.0      | corridor4.mp4  |      21.0      |      Yes       |       No       | State Route 6  |\n",
            "|      Bar       |    23040.0     |      50.0      | corridor5.mp4  |      25.0      |       No       |      Yes       | State Route 6  |\n",
            "|      Bar       |    23050.0     |      41.0      | corridor6.mp4  |      32.0      |       No       |      Yes       | State Route 6  |\n",
            "|      Bar       |    23060.0     |      45.0      | corridor7.mp4  |      29.0      |       No       |       No       | State Route 6  |\n",
            "|      Bar       |    23070.0     |      56.0      | corridor8.mp4  |      20.0      |       No       |       No       | State Route 6  |\n",
            "|      Bar       |    23080.0     |      53.0      | corridor9.mp4  |      22.0      |       No       |       No       | State Route 6  |\n",
            "|                |    64000.0     |      70.0      |    640.mp4     |      34.0      |       No       |       No       |      I80       |\n",
            "|                |    64010.0     |      62.0      |    INVALID     |      33.0      |       No       |       No       |      I80       |\n",
            "|                |    64020.0     |      72.0      |    642.mp4     |      32.0      |       No       |       No       |      I80       |\n",
            "|                |    64030.0     |      75.0      |    643.mp4     |      31.0      |       No       |       No       |      I80       |\n",
            "|                |    64040.0     |      83.0      |    644.mp4     |      26.0      |       No       |      Yes       |      I80       |\n",
            "|                |    64050.0     |      77.0      |    645.mp4     |      29.0      |       No       |       No       |      I80       |\n",
            "|                |    64060.0     |      72.0      |    646.mp4     |      32.0      |       No       |       No       |      I80       |\n",
            "|                |    64070.0     |      63.0      |    647.mp4     |      38.0      |      Yes       |       No       |      I80       |\n",
            "|                |    64080.0     |      67.0      |    648.mp4     |      35.0      |      Yes       |       No       |      I80       |\n",
            "|                |    64090.0     |      78.0      |    649.mp4     |      29.0      |      Yes       |       No       |      I80       |\n",
            "|                                                                                                                                       |\n"
          ]
        }
      ]
    },
    {
      "cell_type": "markdown",
      "metadata": {
        "id": "A6hFqTVKzUyy"
      },
      "source": [
        "#Data Analysis  \n",
        "Frequency distrubution, histogram, bi/multi-feature, insights  \n",
        "Metrics: can we gather macro statistics, do they make sense  \n",
        "Now that the data is clean, it's time to run some preliminary analyses to get a macro-view of the data. We do this step to verify at a high level that the data is in a state that can support statistical analyses. If we have any problems at this stage, either with invalid data or nonsensical statistics, the data likely has not been cleaned properly."
      ]
    },
    {
      "cell_type": "code",
      "metadata": {
        "colab": {
          "base_uri": "https://localhost:8080/",
          "height": 501
        },
        "id": "RGy1Jvec1GY7",
        "outputId": "6c4ae1c4-ce1d-446e-eba6-cbc3eadb7750"
      },
      "source": [
        "import seaborn\n",
        "import pandas\n",
        "import matplotlib.pyplot as plt\n",
        "df = pandas.DataFrame(prepared_data)\n",
        "seaborn.barplot(data=df,x='subset_id',y='Peak Congestion')\n",
        "print(df[df['subset_id']=='I80'])\n"
      ],
      "execution_count": null,
      "outputs": [
        {
          "output_type": "stream",
          "name": "stdout",
          "text": [
            "   Foo  Start Time  Average Speed  ... Anomalous Event  ObjectofInterest subset_id\n",
            "10         64000.0           70.0  ...              No                No       I80\n",
            "11         64010.0           62.0  ...              No                No       I80\n",
            "12         64020.0           72.0  ...              No                No       I80\n",
            "13         64030.0           75.0  ...              No                No       I80\n",
            "14         64040.0           83.0  ...              No               Yes       I80\n",
            "15         64050.0           77.0  ...              No                No       I80\n",
            "16         64060.0           72.0  ...              No                No       I80\n",
            "17         64070.0           63.0  ...             Yes                No       I80\n",
            "18         64080.0           67.0  ...             Yes                No       I80\n",
            "19         64090.0           78.0  ...             Yes                No       I80\n",
            "\n",
            "[10 rows x 8 columns]\n"
          ]
        },
        {
          "output_type": "display_data",
          "data": {
            "image/png": "[encoded data removed]",
            "text/plain": [
              "<Figure size 432x288 with 1 Axes>"
            ]
          },
          "metadata": {
            "needs_background": "light"
          }
        }
      ]
    },
    {
      "cell_type": "markdown",
      "metadata": {
        "id": "__ZSqnka1WSA"
      },
      "source": [
        "\n",
        "#Feature Engineering  \n",
        "We have viewed the data at the high level, it is time to choose what it is we wish to predict from the data, known as the target variable. If for example we are interesting in forcasting Peak Congestion, we might want to see how it correlates with other features in the data. As can be seen from the simple plots, Average Speed increases as Peak Congestion decreases. Thus we could hypothesize that Average Speed is a good feature for estimating Peak Congestion.  Peak Congestion also seems to correlate with time.  \n",
        "Other features, such as the Foo are found to not be good indicators for Peak Congestion, at least in their raw form. Processing existing features to obtain new features, known as feature extraction, such as extracting HOG or optical flow features from video feed frames can be useful at this stage to provide a richer input in the model building phase than simply the raw RGB pixel values in the image.  \n",
        "\n",
        "![HOG Features](https://www.researchgate.net/profile/Joko_Hariyono/publication/263844904/figure/download/fig4/AS:214281711820809@1428100149950/Extraction-process-of-HOG-features-The-HOG-features-are-extracted-from-local-regions.png \"HOG Features\")  \n",
        "     HOG Features  \n",
        "\n",
        "![Optical Flow](https://nanonets.com/blog/content/images/2019/04/of-2.gif \"Optical Flow\")   \n",
        "\n",
        "Labeling data can also be performed such that certain portions of for example video feed images are determined to be part of a certain class.\n",
        "\n",
        "![Data Labeling](https://www.gifntext.com/temp_generations/FZ4uiTua.gif \"Data Labeling\")  \n",
        "     Additional Manual Labeling of Video Frames  "
      ]
    },
    {
      "cell_type": "code",
      "metadata": {
        "colab": {
          "base_uri": "https://localhost:8080/",
          "height": 561
        },
        "id": "TbJVJAr6ga8y",
        "outputId": "4c20456a-eee8-4cb9-cf91-9cafbf81eb18"
      },
      "source": [
        "\n",
        "seaborn.regplot(data=df[df['subset_id']=='I80'],x='Average Speed',y='Peak Congestion')\n",
        "plt.figure()\n",
        "seaborn.regplot(data=df[df['subset_id']=='I80'],x='Start Time',y='Peak Congestion',order=3)"
      ],
      "execution_count": null,
      "outputs": [
        {
          "output_type": "execute_result",
          "data": {
            "text/plain": [
              "<matplotlib.axes._subplots.AxesSubplot at 0x7fb337ea7b50>"
            ]
          },
          "metadata": {},
          "execution_count": 16
        },
        {
          "output_type": "display_data",
          "data": {
            "image/png": "[encoded data removed]",
            "text/plain": [
              "<Figure size 432x288 with 1 Axes>"
            ]
          },
          "metadata": {
            "needs_background": "light"
          }
        },
        {
          "output_type": "display_data",
          "data": {
            "image/png": "[encoded data removed]",
            "text/plain": [
              "<Figure size 432x288 with 1 Axes>"
            ]
          },
          "metadata": {
            "needs_background": "light"
          }
        }
      ]
    },
    {
      "cell_type": "markdown",
      "metadata": {
        "id": "bng1ungK2JtD"
      },
      "source": [
        "#Data Verification  \n",
        "At this point, we have selected good predictive features from the dataset, it is time to choose candidate models to which to try and fit the data.  Regression techniques such as Linear/Polynomial Regression and Gaussian Process Regression are simple supervised learning techniques to try to predict strictly numerical response variables.  \n",
        "Classification techniques such as Logistic Regression and Support Vector Machines can be used to predict class labels, such as classifying portions of pre-processed video feed frames as containing objects of interest.  For classifying objects of interest, such as pedestrians, cyclists, motorists, etc. in the video feeds, we could use something like the You Only Look Once (YOLO) deep network model. This is where labeled portions of the video collecting during feature engineering stage become necessary.  \n",
        "The labeled portions of the images serve as ground truth, or examples chosen by a domain expert, that the network needs to copy by adjusting the parameters or weights in each of its layers. YOLO is an example of a Convolutional Neural Network (CNN), which takes small portions of the input image, slices it up and passes them through a series of layers that continuously shrink the image, which acts as a way to discover objects at different scales in the image, e.g. are there many small examples or few large examples in the image.  \n",
        "Finally, class labels are predicted in certain regions of the image. We continuously modify the weights at each layer until the ouput begins to match the labeled ground truth classifications.\n",
        "\n",
        " \n",
        "![YOLO Architecture](https://www.researchgate.net/profile/Rui-Jiang-11/publication/312593672/figure/fig1/AS:454309071593483@1485327131630/Convolutional-neural-network-of-the-YOLO-Model.png \"YOLO neural network architecture\")  \n",
        "     YOLO Deep Neural Network Architecture "
      ]
    },
    {
      "cell_type": "markdown",
      "metadata": {
        "id": "BV3NTnt2288V"
      },
      "source": [
        "#Data Sequestering \n",
        "At this point, we select a subset of the data on which the train the model, and a different subset of the data to test the performance of the model. It is essential that we test the model on data it did not train on to get a more accurate picture of how well the model generalizes to unseen data. A good split could be 80% training data and the remaining 20% we would use as test data.  \n",
        "Cross-validation can be performed at this stage as well, meaning the model is trained and tested multiple times, each time with a different 20% chunk as test data, with the remaining used for training."
      ]
    },
    {
      "cell_type": "markdown",
      "metadata": {
        "id": "yRRh2SaC37dr"
      },
      "source": [
        "#Model Building  \n",
        "Decision trees, random forest, naive bayes, etc.\n",
        "At this point, we build, or train our candidate models. Here, open-source tools such scikit learn provide a powerful means to building these models. Other tools such as pytorch can be used which allow one to take advantage of any GPUs to speed up training of specifically deep neural networks.  \n",
        "Complex models, such as deep networks can take hours to several days to train before they start to converge on a model that at least performs well at predicting the training data. The data used as input to the model is carefully selected to speed up time to convergence.  \n",
        "At each epoch in the training, we evaluate how well it is performing at modeling the training data, using a loss metric such as cross entropy loss, which measures differences between network output and ground truth examples. Once this loss has reached a minimum point, we say that the model has converged and is ready for evaluation."
      ]
    },
    {
      "cell_type": "markdown",
      "metadata": {
        "id": "EGcZ2HWc4Yjy"
      },
      "source": [
        "#Model Evaluation  \n",
        "Here begins tuning the model. We start by testing how well it performs at predicting the sequestered test data. We can use cross-validation to make the most of the data we have at this stage as well. K-fold cross validation is a technique used to train several models at once using a certain set of hyperparameters on each of K-1 folds of training data. The remaining fold is then used to gather metrics as to the performance of the model on each of the K validation sets.  \n",
        "Metrics of interest include bias-variance i.e. how well the model generalizes to predicting data not used during training, precision-recall or f1-score an averaging of precision-recall i.e. how strict it is at classifying positive class labels, and accuracy i.e. the percentage of data that was correctly classified. Often times, a confusion matrix visualization of the model classification vs the actual classification is shown to visually inspect its performance, which can help pinpoint any systematic misclassifications, or confusion, between two or more classes.  \n",
        "In video feeds, a tracking system can be superimposed on the single-frame detection results. This allows for the tracking of individual objects in the scene to obtain features in the time domain such as measurement of movement velocities. Road hazards can be detected by looking for objects with zero movement velocity in the roadway."
      ]
    },
    {
      "cell_type": "markdown",
      "metadata": {
        "id": "rKf34h5Z5Xv2"
      },
      "source": [
        "#Model Deployment  \n",
        "Finally the moment we've all been waiting for: deployment!  The model is ready for business consumption. Even at this stage, however, the learning system is has not finished learning. Post-deployment is where we find the richest, nearly limitless source of unseen test data. This is also where we get to scale up the system from a single to multiple learning systems working in parallel in the cloud. Anomalous events captured by one learning system can be made available to all learners simultaneously. We can apply a/b testing at this phase as well such as seeing what happens if we make adjustments to our model or use different sets of data during the training phase. Key Performance Indicators (KPIs) and Measure and Monitor techniques can be leveraged to accurately measure the progress of the learning systems over time. Finally, closing the loop, wherein the learning system continously learns and adjusts based on the data it acquires during deployment, can be performed at this stage as well, which uses a set of trained models and rather than training them from scratch we encorporate new knowledge to try to improve their overall performance. This step remains an active research area."
      ]
    },
    {
      "cell_type": "markdown",
      "metadata": {
        "id": "xvbzlYLfCVVi"
      },
      "source": [
        "# Conclusion  \n",
        "In this article, we have followed a toy dataset through the machine learning life cycle, from acquisition to model building and deployment. The models chosen such as You Only Look Once deep neural network, can detect objects of interest such as pedestrians, in video feeds. Layering a tracking system can increase the performance of single-frame algorithms by incorporating information from the time domain, such as optical flow features. Post-deployment, data can be acquired from the field to continuously improve the quality of the performance of the learning system. Finally, closing is the final step where previously trained models are continuously improved through incorporating new knowledge as it is acquired in the field."
      ]
    },
    {
      "cell_type": "code",
      "metadata": {
        "colab": {
          "base_uri": "https://localhost:8080/"
        },
        "id": "o47MRCxpQyR_",
        "outputId": "a45e7727-f76f-41ce-ac2a-dcc8956db41a"
      },
      "source": [
        "!apt update\n",
        "!apt install texlive-xetex texlive-fonts-recommended texlive-generic-recommended\n",
        "\n",
        "import re, pathlib, shutil\n",
        "\n",
        "# Get a list of all your Notebooks\n",
        "notebooks = [x for x in pathlib.Path(\"https://drive.google.com/drive/folders/1V-MbGQ2ZEr-S00cyvIcPfs_W7siaUiHR?usp=sharing\").iterdir() if \n",
        "             re.search(r\"\\.ipynb\", x.name, flags = re.I)]\n",
        "\n",
        "for i, n in enumerate(notebooks):\n",
        "    print(f\"\\nProcessing  [{i+1:{len(str(len(notebooks)))}d}/{len(notebooks)}]  {n.name}\\n\")\n",
        "\n",
        "    # Optionally copy your notebooks from gdrive to your vm\n",
        "    shutil.copy(n, n.name)\n",
        "    n = pathlib.Path(n.name)\n",
        "\n",
        "    !jupyter nbconvert \"{n.as_posix()}\" --to pdf --output \"{n.stem.replace(\" \", \"_\")}\""
      ],
      "execution_count": null,
      "outputs": [
        {
          "output_type": "stream",
          "name": "stdout",
          "text": [
            "\u001b[33m\r0% [Working]\u001b[0m\r            \rGet:1 https://cloud.r-project.org/bin/linux/ubuntu bionic-cran40/ InRelease [3,626 B]\n",
            "\u001b[33m\r0% [Connecting to archive.ubuntu.com (91.189.88.142)] [Waiting for headers] [1 \u001b[0m\u001b[33m\r0% [Connecting to archive.ubuntu.com (91.189.88.142)] [Waiting for headers] [Co\u001b[0m\u001b[33m\r0% [1 InRelease gpgv 3,626 B] [Connecting to archive.ubuntu.com (91.189.88.142)\u001b[0m\r                                                                               \rIgn:2 https://developer.download.nvidia.com/compute/cuda/repos/ubuntu1804/x86_64  InRelease\n",
            "\u001b[33m\r0% [1 InRelease gpgv 3,626 B] [Connecting to archive.ubuntu.com (91.189.88.142)\u001b[0m\r                                                                               \rGet:3 http://security.ubuntu.com/ubuntu bionic-security InRelease [88.7 kB]\n",
            "\u001b[33m\r0% [1 InRelease gpgv 3,626 B] [Connecting to archive.ubuntu.com (91.189.88.142)\u001b[0m\r                                                                               \rIgn:4 https://developer.download.nvidia.com/compute/machine-learning/repos/ubuntu1804/x86_64  InRelease\n",
            "\u001b[33m\r0% [1 InRelease gpgv 3,626 B] [Waiting for headers] [3 InRelease 14.2 kB/88.7 k\u001b[0m\r                                                                               \rHit:5 https://developer.download.nvidia.com/compute/cuda/repos/ubuntu1804/x86_64  Release\n",
            "Hit:6 https://developer.download.nvidia.com/compute/machine-learning/repos/ubuntu1804/x86_64  Release\n",
            "Hit:7 http://archive.ubuntu.com/ubuntu bionic InRelease\n",
            "Get:8 https://cloud.r-project.org/bin/linux/ubuntu bionic-cran40/ Packages [67.9 kB]\n",
            "Get:9 http://archive.ubuntu.com/ubuntu bionic-updates InRelease [88.7 kB]\n",
            "Get:12 http://archive.ubuntu.com/ubuntu bionic-backports InRelease [74.6 kB]\n",
            "Get:13 http://security.ubuntu.com/ubuntu bionic-security/restricted amd64 Packages [594 kB]\n",
            "Get:14 http://ppa.launchpad.net/c2d4u.team/c2d4u4.0+/ubuntu bionic InRelease [15.9 kB]\n",
            "Get:15 http://security.ubuntu.com/ubuntu bionic-security/main amd64 Packages [2,351 kB]\n",
            "Get:16 http://archive.ubuntu.com/ubuntu bionic-updates/main amd64 Packages [2,787 kB]\n",
            "Get:17 http://security.ubuntu.com/ubuntu bionic-security/universe amd64 Packages [1,428 kB]\n",
            "Hit:18 http://ppa.launchpad.net/cran/libgit2/ubuntu bionic InRelease\n",
            "Hit:19 http://ppa.launchpad.net/deadsnakes/ppa/ubuntu bionic InRelease\n",
            "Get:20 http://ppa.launchpad.net/graphics-drivers/ppa/ubuntu bionic InRelease [21.3 kB]\n",
            "Get:21 http://ppa.launchpad.net/c2d4u.team/c2d4u4.0+/ubuntu bionic/main Sources [1,802 kB]\n",
            "Get:22 http://archive.ubuntu.com/ubuntu bionic-updates/universe amd64 Packages [2,202 kB]\n",
            "Get:23 http://ppa.launchpad.net/c2d4u.team/c2d4u4.0+/ubuntu bionic/main amd64 Packages [922 kB]\n",
            "Get:24 http://ppa.launchpad.net/graphics-drivers/ppa/ubuntu bionic/main amd64 Packages [42.0 kB]\n",
            "Get:25 http://archive.ubuntu.com/ubuntu bionic-updates/restricted amd64 Packages [627 kB]\n",
            "Fetched 13.1 MB in 36s (366 kB/s)\n",
            "Reading package lists... Done\n",
            "Building dependency tree       \n",
            "Reading state information... Done\n",
            "79 packages can be upgraded. Run 'apt list --upgradable' to see them.\n",
            "Reading package lists... Done\n",
            "Building dependency tree       \n",
            "Reading state information... Done\n",
            "The following additional packages will be installed:\n",
            "  fonts-droid-fallback fonts-lato fonts-lmodern fonts-noto-mono fonts-texgyre\n",
            "  javascript-common libcupsfilters1 libcupsimage2 libgs9 libgs9-common\n",
            "  libijs-0.35 libjbig2dec0 libjs-jquery libkpathsea6 libpotrace0 libptexenc1\n",
            "  libruby2.5 libsynctex1 libtexlua52 libtexluajit2 libzzip-0-13 lmodern\n",
            "  poppler-data preview-latex-style rake ruby ruby-did-you-mean ruby-minitest\n",
            "  ruby-net-telnet ruby-power-assert ruby-test-unit ruby2.5\n",
            "  rubygems-integration t1utils tex-common tex-gyre texlive-base\n",
            "  texlive-binaries texlive-latex-base texlive-latex-extra\n",
            "  texlive-latex-recommended texlive-pictures texlive-plain-generic tipa\n",
            "Suggested packages:\n",
            "  fonts-noto apache2 | lighttpd | httpd poppler-utils ghostscript\n",
            "  fonts-japanese-mincho | fonts-ipafont-mincho fonts-japanese-gothic\n",
            "  | fonts-ipafont-gothic fonts-arphic-ukai fonts-arphic-uming fonts-nanum ri\n",
            "  ruby-dev bundler debhelper gv | postscript-viewer perl-tk xpdf-reader\n",
            "  | pdf-viewer texlive-fonts-recommended-doc texlive-latex-base-doc\n",
            "  python-pygments icc-profiles libfile-which-perl\n",
            "  libspreadsheet-parseexcel-perl texlive-latex-extra-doc\n",
            "  texlive-latex-recommended-doc texlive-pstricks dot2tex prerex ruby-tcltk\n",
            "  | libtcltk-ruby texlive-pictures-doc vprerex\n",
            "The following NEW packages will be installed:\n",
            "  fonts-droid-fallback fonts-lato fonts-lmodern fonts-noto-mono fonts-texgyre\n",
            "  javascript-common libcupsfilters1 libcupsimage2 libgs9 libgs9-common\n",
            "  libijs-0.35 libjbig2dec0 libjs-jquery libkpathsea6 libpotrace0 libptexenc1\n",
            "  libruby2.5 libsynctex1 libtexlua52 libtexluajit2 libzzip-0-13 lmodern\n",
            "  poppler-data preview-latex-style rake ruby ruby-did-you-mean ruby-minitest\n",
            "  ruby-net-telnet ruby-power-assert ruby-test-unit ruby2.5\n",
            "  rubygems-integration t1utils tex-common tex-gyre texlive-base\n",
            "  texlive-binaries texlive-fonts-recommended texlive-generic-recommended\n",
            "  texlive-latex-base texlive-latex-extra texlive-latex-recommended\n",
            "  texlive-pictures texlive-plain-generic texlive-xetex tipa\n",
            "0 upgraded, 47 newly installed, 0 to remove and 79 not upgraded.\n",
            "Need to get 146 MB of archives.\n",
            "After this operation, 460 MB of additional disk space will be used.\n",
            "Get:1 http://archive.ubuntu.com/ubuntu bionic/main amd64 fonts-droid-fallback all 1:6.0.1r16-1.1 [1,805 kB]\n",
            "Get:2 http://archive.ubuntu.com/ubuntu bionic/main amd64 fonts-lato all 2.0-2 [2,698 kB]\n",
            "Get:3 http://archive.ubuntu.com/ubuntu bionic/main amd64 poppler-data all 0.4.8-2 [1,479 kB]\n",
            "Get:4 http://archive.ubuntu.com/ubuntu bionic/main amd64 tex-common all 6.09 [33.0 kB]\n",
            "Get:5 http://archive.ubuntu.com/ubuntu bionic/main amd64 fonts-lmodern all 2.004.5-3 [4,551 kB]\n",
            "Get:6 http://archive.ubuntu.com/ubuntu bionic/main amd64 fonts-noto-mono all 20171026-2 [75.5 kB]\n",
            "Get:7 http://archive.ubuntu.com/ubuntu bionic/universe amd64 fonts-texgyre all 20160520-1 [8,761 kB]\n",
            "11% [7 fonts-texgyre 4,841 kB/8,761 kB 55%]                   154 kB/s 14min 5s\u001b[0m"
          ]
        }
      ]
    }
  ]
}